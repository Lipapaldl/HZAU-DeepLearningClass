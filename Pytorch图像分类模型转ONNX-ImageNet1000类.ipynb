{
 "cells": [
  {
   "cell_type": "markdown",
   "id": "1c02c91b-e604-4778-b626-b06b350891de",
   "metadata": {},
   "source": [
    "# Pytorch图像分类模型转ONNX-ImageNet1000类\n",
    "\n",
    "把Pytorch预训练ImageNet图像分类模型，导出为ONNX格式，用于后续在推理引擎上部署。\n",
    "\n",
    "代码运行云GPU平台：公众号 人工智能小技巧 回复 gpu\n",
    "\n",
    "同济子豪兄 2022-8-22 2023-4-28 2023-5-8"
   ]
  },
  {
   "cell_type": "markdown",
   "id": "aab08f57-14e2-44bc-8562-51c7be68f074",
   "metadata": {},
   "source": [
    "## 导入工具包"
   ]
  },
  {
   "cell_type": "code",
   "execution_count": 4,
   "id": "f9baf99e-744e-462d-94b4-f3653cb743ca",
   "metadata": {
    "ExecuteTime": {
     "end_time": "2023-12-15T11:55:20.283650Z",
     "start_time": "2023-12-15T11:55:20.276650Z"
    }
   },
   "outputs": [
    {
     "name": "stdout",
     "output_type": "stream",
     "text": [
      "device cuda:0\n"
     ]
    }
   ],
   "source": [
    "import torch\n",
    "from torchvision import models\n",
    "from torch import nn\n",
    "# 有 GPU 就用 GPU，没有就用 CPU\n",
    "device = torch.device('cuda:0' if torch.cuda.is_available() else 'cpu')\n",
    "print('device', device)"
   ]
  },
  {
   "cell_type": "markdown",
   "id": "83ca3195-6800-4c89-98a7-3fb0c44ec329",
   "metadata": {},
   "source": [
    "## 载入ImageNet预训练PyTorch图像分类模型"
   ]
  },
  {
   "cell_type": "code",
   "execution_count": 5,
   "id": "04824a4e-29ef-4048-af6e-e2442e388b69",
   "metadata": {
    "ExecuteTime": {
     "end_time": "2023-12-15T11:55:23.224521Z",
     "start_time": "2023-12-15T11:55:22.387309Z"
    }
   },
   "outputs": [],
   "source": [
    "class CustomMobileNetV3(nn.Module):\n",
    "    def __init__(self, num_classes=5):\n",
    "        super(CustomMobileNetV3, self).__init__()\n",
    "        self.base_model = models.mobilenet_v3_small(pretrained=True)\n",
    "        # 修改最后一层全连接层的输出节点数，以适应五分类任务\n",
    "        in_features = self.base_model.classifier[-1].in_features\n",
    "        self.base_model.classifier[-1] = nn.Linear(in_features, num_classes)\n",
    "\n",
    "    def forward(self, x):\n",
    "        return self.base_model(x)\n",
    "file_path = \"0.8163_best_MobileNet_translearning.pth\"\n",
    "model_MobileNet =  CustomMobileNetV3()\n",
    "model_MobileNet.load_state_dict(torch.load(file_path))\n",
    "model_name_MobileNet = 'MobileNet_translearning'\n",
    "model_MobileNet(torch.randn(16,3,256,256)).shape\n",
    "\n",
    "model =  model_MobileNet\n",
    "model = model.eval().to(device)"
   ]
  },
  {
   "cell_type": "markdown",
   "id": "14ecc309-184d-4ef9-a926-7f5f379d8a95",
   "metadata": {},
   "source": [
    "## 构造一个输入图像Tensor"
   ]
  },
  {
   "cell_type": "code",
   "execution_count": 6,
   "id": "f3e41561-1d86-4f1d-b98d-c19373635bd8",
   "metadata": {
    "ExecuteTime": {
     "end_time": "2023-12-15T11:55:26.367191Z",
     "start_time": "2023-12-15T11:55:26.355199Z"
    }
   },
   "outputs": [],
   "source": [
    "x = torch.randn(1, 3, 256, 256).to(device)"
   ]
  },
  {
   "cell_type": "markdown",
   "id": "798a2585-d34b-4537-b5aa-538aea6c4d59",
   "metadata": {},
   "source": [
    "## 输入Pytorch模型推理预测，获得1000个类别的预测结果"
   ]
  },
  {
   "cell_type": "code",
   "execution_count": 7,
   "id": "6fa9b2ec-ec96-419e-a289-5615ea57b00b",
   "metadata": {
    "ExecuteTime": {
     "end_time": "2023-12-15T11:55:41.216142Z",
     "start_time": "2023-12-15T11:55:32.616217Z"
    }
   },
   "outputs": [],
   "source": [
    "output = model(x)"
   ]
  },
  {
   "cell_type": "code",
   "execution_count": 8,
   "id": "bb5ffda8-26af-4d9b-8770-3de9de27958c",
   "metadata": {
    "ExecuteTime": {
     "end_time": "2023-12-15T11:55:42.646241Z",
     "start_time": "2023-12-15T11:55:42.623245Z"
    }
   },
   "outputs": [
    {
     "data": {
      "text/plain": [
       "torch.Size([1, 5])"
      ]
     },
     "execution_count": 8,
     "metadata": {},
     "output_type": "execute_result"
    }
   ],
   "source": [
    "output.shape"
   ]
  },
  {
   "cell_type": "markdown",
   "id": "8b8bb112-e3d4-4abe-ab51-b09ed29ef682",
   "metadata": {},
   "source": [
    "## Pytorch模型转ONNX格式"
   ]
  },
  {
   "cell_type": "code",
   "execution_count": 9,
   "id": "4adf4e24-93f5-4467-b011-e69c45d45bd3",
   "metadata": {
    "ExecuteTime": {
     "end_time": "2023-12-15T11:56:09.610888Z",
     "start_time": "2023-12-15T11:56:06.875692Z"
    }
   },
   "outputs": [],
   "source": [
    "with torch.no_grad():\n",
    "    torch.onnx.export(\n",
    "        model,                       # 要转换的模型\n",
    "        x,                           # 模型的任意一组输入\n",
    "        f'{model_name_MobileNet}.onnx',    # 导出的 ONNX 文件名\n",
    "        opset_version=11,            # ONNX 算子集版本\n",
    "        input_names=['input'],       # 输入 Tensor 的名称（自己起名字）\n",
    "        output_names=['output']      # 输出 Tensor 的名称（自己起名字）\n",
    "    ) "
   ]
  },
  {
   "cell_type": "markdown",
   "id": "9f30be68-1c30-43cd-be36-541b3035d933",
   "metadata": {},
   "source": [
    "## 验证onnx模型导出成功"
   ]
  },
  {
   "cell_type": "code",
   "execution_count": 10,
   "id": "067ce090-879a-4b05-af90-c7da47d84cc2",
   "metadata": {
    "ExecuteTime": {
     "end_time": "2023-12-15T11:56:30.537050Z",
     "start_time": "2023-12-15T11:56:30.332663Z"
    }
   },
   "outputs": [
    {
     "name": "stdout",
     "output_type": "stream",
     "text": [
      "无报错，onnx模型载入成功\n"
     ]
    }
   ],
   "source": [
    "import onnx\n",
    "\n",
    "# 读取 ONNX 模型\n",
    "onnx_model = onnx.load(f'{model_name_MobileNet}.onnx')\n",
    "\n",
    "# 检查模型格式是否正确\n",
    "onnx.checker.check_model(onnx_model)\n",
    "\n",
    "print('无报错，onnx模型载入成功')"
   ]
  },
  {
   "cell_type": "markdown",
   "id": "9fa98064-6ac5-4072-a331-8513b3e29a03",
   "metadata": {},
   "source": [
    "## 以可读的形式打印计算图"
   ]
  },
  {
   "cell_type": "code",
   "execution_count": 11,
   "id": "333c59c1-6118-44e1-b892-e0a58d47cff1",
   "metadata": {
    "ExecuteTime": {
     "end_time": "2023-12-15T11:56:33.514925Z",
     "start_time": "2023-12-15T11:56:33.484919Z"
    }
   },
   "outputs": [
    {
     "name": "stdout",
     "output_type": "stream",
     "text": [
      "graph torch-jit-export (\n",
      "  %input[FLOAT, 1x3x256x256]\n",
      ") initializers (\n",
      "  %base_model.features.1.block.1.fc1.weight[FLOAT, 8x16x1x1]\n",
      "  %base_model.features.1.block.1.fc1.bias[FLOAT, 8]\n",
      "  %base_model.features.1.block.1.fc2.weight[FLOAT, 16x8x1x1]\n",
      "  %base_model.features.1.block.1.fc2.bias[FLOAT, 16]\n",
      "  %base_model.features.4.block.2.fc1.weight[FLOAT, 24x96x1x1]\n",
      "  %base_model.features.4.block.2.fc1.bias[FLOAT, 24]\n",
      "  %base_model.features.4.block.2.fc2.weight[FLOAT, 96x24x1x1]\n",
      "  %base_model.features.4.block.2.fc2.bias[FLOAT, 96]\n",
      "  %base_model.features.5.block.2.fc1.weight[FLOAT, 64x240x1x1]\n",
      "  %base_model.features.5.block.2.fc1.bias[FLOAT, 64]\n",
      "  %base_model.features.5.block.2.fc2.weight[FLOAT, 240x64x1x1]\n",
      "  %base_model.features.5.block.2.fc2.bias[FLOAT, 240]\n",
      "  %base_model.features.6.block.2.fc1.weight[FLOAT, 64x240x1x1]\n",
      "  %base_model.features.6.block.2.fc1.bias[FLOAT, 64]\n",
      "  %base_model.features.6.block.2.fc2.weight[FLOAT, 240x64x1x1]\n",
      "  %base_model.features.6.block.2.fc2.bias[FLOAT, 240]\n",
      "  %base_model.features.7.block.2.fc1.weight[FLOAT, 32x120x1x1]\n",
      "  %base_model.features.7.block.2.fc1.bias[FLOAT, 32]\n",
      "  %base_model.features.7.block.2.fc2.weight[FLOAT, 120x32x1x1]\n",
      "  %base_model.features.7.block.2.fc2.bias[FLOAT, 120]\n",
      "  %base_model.features.8.block.2.fc1.weight[FLOAT, 40x144x1x1]\n",
      "  %base_model.features.8.block.2.fc1.bias[FLOAT, 40]\n",
      "  %base_model.features.8.block.2.fc2.weight[FLOAT, 144x40x1x1]\n",
      "  %base_model.features.8.block.2.fc2.bias[FLOAT, 144]\n",
      "  %base_model.features.9.block.2.fc1.weight[FLOAT, 72x288x1x1]\n",
      "  %base_model.features.9.block.2.fc1.bias[FLOAT, 72]\n",
      "  %base_model.features.9.block.2.fc2.weight[FLOAT, 288x72x1x1]\n",
      "  %base_model.features.9.block.2.fc2.bias[FLOAT, 288]\n",
      "  %base_model.features.10.block.2.fc1.weight[FLOAT, 144x576x1x1]\n",
      "  %base_model.features.10.block.2.fc1.bias[FLOAT, 144]\n",
      "  %base_model.features.10.block.2.fc2.weight[FLOAT, 576x144x1x1]\n",
      "  %base_model.features.10.block.2.fc2.bias[FLOAT, 576]\n",
      "  %base_model.features.11.block.2.fc1.weight[FLOAT, 144x576x1x1]\n",
      "  %base_model.features.11.block.2.fc1.bias[FLOAT, 144]\n",
      "  %base_model.features.11.block.2.fc2.weight[FLOAT, 576x144x1x1]\n",
      "  %base_model.features.11.block.2.fc2.bias[FLOAT, 576]\n",
      "  %base_model.classifier.0.weight[FLOAT, 1024x576]\n",
      "  %base_model.classifier.0.bias[FLOAT, 1024]\n",
      "  %base_model.classifier.3.weight[FLOAT, 5x1024]\n",
      "  %base_model.classifier.3.bias[FLOAT, 5]\n",
      "  %421[FLOAT, 16x3x3x3]\n",
      "  %422[FLOAT, 16]\n",
      "  %424[FLOAT, 16x1x3x3]\n",
      "  %425[FLOAT, 16]\n",
      "  %427[FLOAT, 16x16x1x1]\n",
      "  %428[FLOAT, 16]\n",
      "  %430[FLOAT, 72x16x1x1]\n",
      "  %431[FLOAT, 72]\n",
      "  %433[FLOAT, 72x1x3x3]\n",
      "  %434[FLOAT, 72]\n",
      "  %436[FLOAT, 24x72x1x1]\n",
      "  %437[FLOAT, 24]\n",
      "  %439[FLOAT, 88x24x1x1]\n",
      "  %440[FLOAT, 88]\n",
      "  %442[FLOAT, 88x1x3x3]\n",
      "  %443[FLOAT, 88]\n",
      "  %445[FLOAT, 24x88x1x1]\n",
      "  %446[FLOAT, 24]\n",
      "  %448[FLOAT, 96x24x1x1]\n",
      "  %449[FLOAT, 96]\n",
      "  %451[FLOAT, 96x1x5x5]\n",
      "  %452[FLOAT, 96]\n",
      "  %454[FLOAT, 40x96x1x1]\n",
      "  %455[FLOAT, 40]\n",
      "  %457[FLOAT, 240x40x1x1]\n",
      "  %458[FLOAT, 240]\n",
      "  %460[FLOAT, 240x1x5x5]\n",
      "  %461[FLOAT, 240]\n",
      "  %463[FLOAT, 40x240x1x1]\n",
      "  %464[FLOAT, 40]\n",
      "  %466[FLOAT, 240x40x1x1]\n",
      "  %467[FLOAT, 240]\n",
      "  %469[FLOAT, 240x1x5x5]\n",
      "  %470[FLOAT, 240]\n",
      "  %472[FLOAT, 40x240x1x1]\n",
      "  %473[FLOAT, 40]\n",
      "  %475[FLOAT, 120x40x1x1]\n",
      "  %476[FLOAT, 120]\n",
      "  %478[FLOAT, 120x1x5x5]\n",
      "  %479[FLOAT, 120]\n",
      "  %481[FLOAT, 48x120x1x1]\n",
      "  %482[FLOAT, 48]\n",
      "  %484[FLOAT, 144x48x1x1]\n",
      "  %485[FLOAT, 144]\n",
      "  %487[FLOAT, 144x1x5x5]\n",
      "  %488[FLOAT, 144]\n",
      "  %490[FLOAT, 48x144x1x1]\n",
      "  %491[FLOAT, 48]\n",
      "  %493[FLOAT, 288x48x1x1]\n",
      "  %494[FLOAT, 288]\n",
      "  %496[FLOAT, 288x1x5x5]\n",
      "  %497[FLOAT, 288]\n",
      "  %499[FLOAT, 96x288x1x1]\n",
      "  %500[FLOAT, 96]\n",
      "  %502[FLOAT, 576x96x1x1]\n",
      "  %503[FLOAT, 576]\n",
      "  %505[FLOAT, 576x1x5x5]\n",
      "  %506[FLOAT, 576]\n",
      "  %508[FLOAT, 96x576x1x1]\n",
      "  %509[FLOAT, 96]\n",
      "  %511[FLOAT, 576x96x1x1]\n",
      "  %512[FLOAT, 576]\n",
      "  %514[FLOAT, 576x1x5x5]\n",
      "  %515[FLOAT, 576]\n",
      "  %517[FLOAT, 96x576x1x1]\n",
      "  %518[FLOAT, 96]\n",
      "  %520[FLOAT, 576x96x1x1]\n",
      "  %521[FLOAT, 576]\n",
      ") {\n",
      "  %420 = Conv[dilations = [1, 1], group = 1, kernel_shape = [3, 3], pads = [1, 1, 1, 1], strides = [2, 2]](%input, %421, %422)\n",
      "  %247 = HardSigmoid[alpha = 0.16666667163372](%420)\n",
      "  %248 = Mul(%420, %247)\n",
      "  %423 = Conv[dilations = [1, 1], group = 16, kernel_shape = [3, 3], pads = [1, 1, 1, 1], strides = [2, 2]](%248, %424, %425)\n",
      "  %251 = Relu(%423)\n",
      "  %252 = GlobalAveragePool(%251)\n",
      "  %253 = Conv[dilations = [1, 1], group = 1, kernel_shape = [1, 1], pads = [0, 0, 0, 0], strides = [1, 1]](%252, %base_model.features.1.block.1.fc1.weight, %base_model.features.1.block.1.fc1.bias)\n",
      "  %254 = Relu(%253)\n",
      "  %255 = Conv[dilations = [1, 1], group = 1, kernel_shape = [1, 1], pads = [0, 0, 0, 0], strides = [1, 1]](%254, %base_model.features.1.block.1.fc2.weight, %base_model.features.1.block.1.fc2.bias)\n",
      "  %256 = HardSigmoid[alpha = 0.16666667163372](%255)\n",
      "  %257 = Mul(%256, %251)\n",
      "  %426 = Conv[dilations = [1, 1], group = 1, kernel_shape = [1, 1], pads = [0, 0, 0, 0], strides = [1, 1]](%257, %427, %428)\n",
      "  %429 = Conv[dilations = [1, 1], group = 1, kernel_shape = [1, 1], pads = [0, 0, 0, 0], strides = [1, 1]](%426, %430, %431)\n",
      "  %262 = Relu(%429)\n",
      "  %432 = Conv[dilations = [1, 1], group = 72, kernel_shape = [3, 3], pads = [1, 1, 1, 1], strides = [2, 2]](%262, %433, %434)\n",
      "  %265 = Relu(%432)\n",
      "  %435 = Conv[dilations = [1, 1], group = 1, kernel_shape = [1, 1], pads = [0, 0, 0, 0], strides = [1, 1]](%265, %436, %437)\n",
      "  %438 = Conv[dilations = [1, 1], group = 1, kernel_shape = [1, 1], pads = [0, 0, 0, 0], strides = [1, 1]](%435, %439, %440)\n",
      "  %270 = Relu(%438)\n",
      "  %441 = Conv[dilations = [1, 1], group = 88, kernel_shape = [3, 3], pads = [1, 1, 1, 1], strides = [1, 1]](%270, %442, %443)\n",
      "  %273 = Relu(%441)\n",
      "  %444 = Conv[dilations = [1, 1], group = 1, kernel_shape = [1, 1], pads = [0, 0, 0, 0], strides = [1, 1]](%273, %445, %446)\n",
      "  %276 = Add(%444, %435)\n",
      "  %447 = Conv[dilations = [1, 1], group = 1, kernel_shape = [1, 1], pads = [0, 0, 0, 0], strides = [1, 1]](%276, %448, %449)\n",
      "  %279 = HardSigmoid[alpha = 0.16666667163372](%447)\n",
      "  %280 = Mul(%447, %279)\n",
      "  %450 = Conv[dilations = [1, 1], group = 96, kernel_shape = [5, 5], pads = [2, 2, 2, 2], strides = [2, 2]](%280, %451, %452)\n",
      "  %283 = HardSigmoid[alpha = 0.16666667163372](%450)\n",
      "  %284 = Mul(%450, %283)\n",
      "  %285 = GlobalAveragePool(%284)\n",
      "  %286 = Conv[dilations = [1, 1], group = 1, kernel_shape = [1, 1], pads = [0, 0, 0, 0], strides = [1, 1]](%285, %base_model.features.4.block.2.fc1.weight, %base_model.features.4.block.2.fc1.bias)\n",
      "  %287 = Relu(%286)\n",
      "  %288 = Conv[dilations = [1, 1], group = 1, kernel_shape = [1, 1], pads = [0, 0, 0, 0], strides = [1, 1]](%287, %base_model.features.4.block.2.fc2.weight, %base_model.features.4.block.2.fc2.bias)\n",
      "  %289 = HardSigmoid[alpha = 0.16666667163372](%288)\n",
      "  %290 = Mul(%289, %284)\n",
      "  %453 = Conv[dilations = [1, 1], group = 1, kernel_shape = [1, 1], pads = [0, 0, 0, 0], strides = [1, 1]](%290, %454, %455)\n",
      "  %456 = Conv[dilations = [1, 1], group = 1, kernel_shape = [1, 1], pads = [0, 0, 0, 0], strides = [1, 1]](%453, %457, %458)\n",
      "  %295 = HardSigmoid[alpha = 0.16666667163372](%456)\n",
      "  %296 = Mul(%456, %295)\n",
      "  %459 = Conv[dilations = [1, 1], group = 240, kernel_shape = [5, 5], pads = [2, 2, 2, 2], strides = [1, 1]](%296, %460, %461)\n",
      "  %299 = HardSigmoid[alpha = 0.16666667163372](%459)\n",
      "  %300 = Mul(%459, %299)\n",
      "  %301 = GlobalAveragePool(%300)\n",
      "  %302 = Conv[dilations = [1, 1], group = 1, kernel_shape = [1, 1], pads = [0, 0, 0, 0], strides = [1, 1]](%301, %base_model.features.5.block.2.fc1.weight, %base_model.features.5.block.2.fc1.bias)\n",
      "  %303 = Relu(%302)\n",
      "  %304 = Conv[dilations = [1, 1], group = 1, kernel_shape = [1, 1], pads = [0, 0, 0, 0], strides = [1, 1]](%303, %base_model.features.5.block.2.fc2.weight, %base_model.features.5.block.2.fc2.bias)\n",
      "  %305 = HardSigmoid[alpha = 0.16666667163372](%304)\n",
      "  %306 = Mul(%305, %300)\n",
      "  %462 = Conv[dilations = [1, 1], group = 1, kernel_shape = [1, 1], pads = [0, 0, 0, 0], strides = [1, 1]](%306, %463, %464)\n",
      "  %309 = Add(%462, %453)\n",
      "  %465 = Conv[dilations = [1, 1], group = 1, kernel_shape = [1, 1], pads = [0, 0, 0, 0], strides = [1, 1]](%309, %466, %467)\n",
      "  %312 = HardSigmoid[alpha = 0.16666667163372](%465)\n",
      "  %313 = Mul(%465, %312)\n",
      "  %468 = Conv[dilations = [1, 1], group = 240, kernel_shape = [5, 5], pads = [2, 2, 2, 2], strides = [1, 1]](%313, %469, %470)\n",
      "  %316 = HardSigmoid[alpha = 0.16666667163372](%468)\n",
      "  %317 = Mul(%468, %316)\n",
      "  %318 = GlobalAveragePool(%317)\n",
      "  %319 = Conv[dilations = [1, 1], group = 1, kernel_shape = [1, 1], pads = [0, 0, 0, 0], strides = [1, 1]](%318, %base_model.features.6.block.2.fc1.weight, %base_model.features.6.block.2.fc1.bias)\n",
      "  %320 = Relu(%319)\n",
      "  %321 = Conv[dilations = [1, 1], group = 1, kernel_shape = [1, 1], pads = [0, 0, 0, 0], strides = [1, 1]](%320, %base_model.features.6.block.2.fc2.weight, %base_model.features.6.block.2.fc2.bias)\n",
      "  %322 = HardSigmoid[alpha = 0.16666667163372](%321)\n",
      "  %323 = Mul(%322, %317)\n",
      "  %471 = Conv[dilations = [1, 1], group = 1, kernel_shape = [1, 1], pads = [0, 0, 0, 0], strides = [1, 1]](%323, %472, %473)\n",
      "  %326 = Add(%471, %309)\n",
      "  %474 = Conv[dilations = [1, 1], group = 1, kernel_shape = [1, 1], pads = [0, 0, 0, 0], strides = [1, 1]](%326, %475, %476)\n",
      "  %329 = HardSigmoid[alpha = 0.16666667163372](%474)\n",
      "  %330 = Mul(%474, %329)\n",
      "  %477 = Conv[dilations = [1, 1], group = 120, kernel_shape = [5, 5], pads = [2, 2, 2, 2], strides = [1, 1]](%330, %478, %479)\n",
      "  %333 = HardSigmoid[alpha = 0.16666667163372](%477)\n",
      "  %334 = Mul(%477, %333)\n",
      "  %335 = GlobalAveragePool(%334)\n",
      "  %336 = Conv[dilations = [1, 1], group = 1, kernel_shape = [1, 1], pads = [0, 0, 0, 0], strides = [1, 1]](%335, %base_model.features.7.block.2.fc1.weight, %base_model.features.7.block.2.fc1.bias)\n",
      "  %337 = Relu(%336)\n",
      "  %338 = Conv[dilations = [1, 1], group = 1, kernel_shape = [1, 1], pads = [0, 0, 0, 0], strides = [1, 1]](%337, %base_model.features.7.block.2.fc2.weight, %base_model.features.7.block.2.fc2.bias)\n",
      "  %339 = HardSigmoid[alpha = 0.16666667163372](%338)\n",
      "  %340 = Mul(%339, %334)\n",
      "  %480 = Conv[dilations = [1, 1], group = 1, kernel_shape = [1, 1], pads = [0, 0, 0, 0], strides = [1, 1]](%340, %481, %482)\n",
      "  %483 = C"
     ]
    },
    {
     "data": {
      "text/html": [
       "<b>limit_output extension: Maximum message size of 10000 exceeded with 14908 characters</b>"
      ]
     },
     "metadata": {},
     "output_type": "display_data"
    }
   ],
   "source": [
    "print(onnx.helper.printable_graph(onnx_model.graph))"
   ]
  },
  {
   "cell_type": "markdown",
   "id": "50822107-074b-4326-8b60-87b1f67a5428",
   "metadata": {},
   "source": [
    "## 使用Netron可视化模型结构\n",
    "\n",
    "Netron：https://netron.app\n",
    "\n",
    "视频教程：https://www.bilibili.com/video/BV1TV4y1P7AP"
   ]
  },
  {
   "cell_type": "code",
   "execution_count": null,
   "id": "0c424032-6fe5-4e78-b118-1fd993d6ebb4",
   "metadata": {},
   "outputs": [],
   "source": []
  }
 ],
 "metadata": {
  "hide_input": false,
  "kernelspec": {
   "display_name": "Python 3 (ipykernel)",
   "language": "python",
   "name": "python3"
  },
  "language_info": {
   "codemirror_mode": {
    "name": "ipython",
    "version": 3
   },
   "file_extension": ".py",
   "mimetype": "text/x-python",
   "name": "python",
   "nbconvert_exporter": "python",
   "pygments_lexer": "ipython3",
   "version": "3.8.13"
  },
  "toc": {
   "base_numbering": 1,
   "nav_menu": {},
   "number_sections": true,
   "sideBar": true,
   "skip_h1_title": false,
   "title_cell": "Table of Contents",
   "title_sidebar": "Contents",
   "toc_cell": false,
   "toc_position": {},
   "toc_section_display": true,
   "toc_window_display": false
  }
 },
 "nbformat": 4,
 "nbformat_minor": 5
}
