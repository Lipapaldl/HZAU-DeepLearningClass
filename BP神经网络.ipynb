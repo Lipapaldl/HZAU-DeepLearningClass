{
 "cells": [
  {
   "cell_type": "code",
   "execution_count": 1,
   "id": "32c7366f",
   "metadata": {
    "ExecuteTime": {
     "end_time": "2023-07-29T02:19:33.740087Z",
     "start_time": "2023-07-29T02:19:23.373365Z"
    }
   },
   "outputs": [
    {
     "name": "stderr",
     "output_type": "stream",
     "text": [
      "C:\\Users\\xiandan\\miniconda3\\envs\\d2l\\lib\\site-packages\\numpy\\_distributor_init.py:30: UserWarning: loaded more than 1 DLL from .libs:\n",
      "C:\\Users\\xiandan\\miniconda3\\envs\\d2l\\lib\\site-packages\\numpy\\.libs\\libopenblas.EL2C6PLE4ZYW3ECEVIV3OXXGRN2NRFM2.gfortran-win_amd64.dll\n",
      "C:\\Users\\xiandan\\miniconda3\\envs\\d2l\\lib\\site-packages\\numpy\\.libs\\libopenblas.XWYDX2IKJW2NMTWSFYNGFUWKQU3LYTCZ.gfortran-win_amd64.dll\n",
      "  warnings.warn(\"loaded more than 1 DLL from .libs:\"\n"
     ]
    }
   ],
   "source": [
    "import math\n",
    "import string\n",
    "import matplotlib as mpl\n",
    "import numpy.matlib\n",
    "import numpy as np\n",
    "np.seterr(divide='ignore',invalid='ignore')\n",
    "import matplotlib.pyplot as plt\n",
    "from matplotlib import font_manager\n",
    "import pandas as pd\n",
    "import random"
   ]
  },
  {
   "cell_type": "code",
   "execution_count": 3,
   "id": "894416f5",
   "metadata": {
    "ExecuteTime": {
     "end_time": "2023-07-29T02:19:54.132295Z",
     "start_time": "2023-07-29T02:19:54.114298Z"
    }
   },
   "outputs": [],
   "source": [
    "#⽣成区间[a,b]内的随机数\n",
    "def random_number(a,b):\n",
    "    return (b-a)*random.random()+a"
   ]
  },
  {
   "cell_type": "code",
   "execution_count": 4,
   "id": "a600803a",
   "metadata": {
    "ExecuteTime": {
     "end_time": "2023-07-29T02:20:13.794041Z",
     "start_time": "2023-07-29T02:20:13.773984Z"
    }
   },
   "outputs": [],
   "source": [
    "#⽣成⼀个矩阵，⼤⼩为m*n,并且设置默认零矩阵\n",
    "def makematrix(m, n, fill=0.0):\n",
    "    a = []\n",
    "    for i in range(m):\n",
    "        a.append([fill]*n)\n",
    "    return np.array(a)"
   ]
  },
  {
   "cell_type": "code",
   "execution_count": 7,
   "id": "3819a4b1",
   "metadata": {
    "ExecuteTime": {
     "end_time": "2023-07-29T02:21:36.420860Z",
     "start_time": "2023-07-29T02:21:36.411857Z"
    }
   },
   "outputs": [],
   "source": [
    "#函数sigmoid(),两个函数都可以作为激活函数\n",
    "def sigmoid(x):\n",
    "    #return np.tanh(x)\n",
    "    return(1-np.exp(-1*x))/(1+np.exp(-1*x))\n",
    "\n",
    "#函数sigmoid的派⽣函数\n",
    "def derived_sigmoid(x):\n",
    "    return 1-(np.tanh(x))**2\n",
    "    #return (2*np.exp((-1)*x)/((1+np.exp(-1*x)**2)))"
   ]
  },
  {
   "cell_type": "code",
   "execution_count": 53,
   "id": "b2ef1bef",
   "metadata": {
    "ExecuteTime": {
     "end_time": "2023-07-29T02:38:25.536006Z",
     "start_time": "2023-07-29T02:38:25.513987Z"
    }
   },
   "outputs": [],
   "source": [
    "#构造三层BP⽹络架构\n",
    "class BPNN:\n",
    "    def __init__(self,num_in,num_hidden,num_out):\n",
    "        #输入层，隐藏层，输出层的节点数\n",
    "        self.num_in =num_in + 1 #增加一个偏置节点\n",
    "        self.num_hidden = num_hidden + 1 #增加一个偏置节点\n",
    "        self.num_out=num_out\n",
    "        #激活神经⽹络的所有节点（向量）\n",
    "        self.active_in = np.array([-1.0]*self.num_in)\n",
    "        self.active_hidden = np.array([-1.0]*self.num_hidden)\n",
    "        self.active_out = np.array([1.0]*self.num_out)\n",
    "        #创建权重矩阵\n",
    "        self.wight_in = makematrix(self.num_in, self.num_hidden)\n",
    "        self.wight_out = makematrix(self.num_hidden, self.num_out)\n",
    "        #对权值矩阵赋初值\n",
    "        for i in range(self.num_in):\n",
    "            for j in range(self.num_hidden):\n",
    "                self.wight_in[i][j] = random_number(0.1, 0.1)\n",
    "        for i in range(self.num_hidden):\n",
    "            for j in range(self.num_out):\n",
    "                self.wight_out[i][j] = random_number(0.1, 0.1)\n",
    "        #偏差\n",
    "        for j in range(self.num_hidden):\n",
    "            self.wight_in[0][j] = 0.1\n",
    "        for j in range(self.num_out):\n",
    "            self.wight_in[0][j] = 0.1\n",
    "        #最后建⽴动量因⼦（矩阵）\n",
    "        self.ci = makematrix(self.num_in, self.num_hidden)\n",
    "        self.co = makematrix(self.num_hidden, self.num_out)\n",
    "    #信号正向传播\n",
    "    def update(self, inputs):\n",
    "        if len(inputs) != self.num_in-1:\n",
    "            raise ValueError('与输⼊层节点数不符')\n",
    "        #数据输⼊输⼊层\n",
    "        self.active_in[1:self.num_in]=inputs\n",
    "        #数据在隐藏层的处理\n",
    "        self.sum_hidden=np.dot(self.wight_in.T,self.active_in.reshape(-1,1)) #点乘\n",
    "        self.active_hidden=sigmoid(self.sum_hidden) #active_hidden[]是处理完输⼊数据之后存储，作为输出层的输⼊数据\n",
    "        self.active_hidden[0]=-1\n",
    "        #数据在输出层的处理\n",
    "        self.sum_out=np.dot(self.wight_out.T,self.active_hidden) #点乘\n",
    "        self.active_out = sigmoid(self.sum_out) #与上同理\n",
    "        return self.active_out\n",
    "    #误差反向传播\n",
    "    def errorbackpropagate(self, targets, lr,m): #lr是学习率\n",
    "        if self.num_out==1:\n",
    "            targets=[targets]\n",
    "        if len(targets) != self.num_out:\n",
    "            raise ValueError('与输出层节点数不符！')\n",
    "        #误差\n",
    "        error=(1/2)*np.dot((targets.reshape(-1,1)-self.active_out).T,(targets.reshape(-1,1)-self.active_out))\n",
    "        #输出误差信号\n",
    "        self.error_out=(targets.reshape(-1,1)-self.active_out)*derived_sigmoid(self.sum_out)\n",
    "        #隐层误差信号\n",
    "        #self.error_hidden=np.dot(self.wight_out.reshape(-1,1),self.error_out.reshape(-1,1))*self.active_hidden*(1-self.active_hidden)\n",
    "        self.error_hidden=np.dot(self.wight_out,self.error_out)*derived_sigmoid(self.sum_hidden)\n",
    "        #更新权值\n",
    "        #隐藏\n",
    "        self.wight_out=self.wight_out+lr*np.dot(self.error_out,self.active_hidden.reshape(1,-1)).T+m*self.co\n",
    "        self.co=lr*np.dot(self.error_out,self.active_hidden.reshape(1,-1)).T\n",
    "        #输⼊\n",
    "        self.wight_in=self.wight_in+lr*np.dot(self.error_hidden,self.active_in.reshape(1,-1)).T+m*self.ci\n",
    "        self.ci=lr*np.dot(self.error_hidden,self.active_in.reshape(1,-1)).T\n",
    "        return error\n",
    "        #测试\n",
    "    def test(self, patterns):\n",
    "        for i in patterns:\n",
    "            print(i[0:self.num_in-1], '->', self.update(i[0:self.num_in-1]))\n",
    "        return self.update(i[0:self.num_in-1])\n",
    "    #权值\n",
    "    def weights(self):\n",
    "        print(\"输⼊层权重\")\n",
    "        print(self.wight_in)\n",
    "        print(\"输出层权重\")\n",
    "        print(self.wight_out)\n",
    "    def train(self, pattern, itera=100, lr = 0.2, m=0.1):\n",
    "        for i in range(itera):\n",
    "            error = 0.0\n",
    "            for j in pattern:\n",
    "                inputs = j[0:self.num_in-1]\n",
    "                targets = j[self.num_in-1:]\n",
    "                self.update(inputs)\n",
    "                error = error+self.errorbackpropagate(targets, lr,m)\n",
    "            if i % 10 == 0:\n",
    "                print('########################误差 %-.5f######################第%d次迭代'%(error,i))"
   ]
  },
  {
   "cell_type": "code",
   "execution_count": 54,
   "id": "59fbfcfa",
   "metadata": {
    "ExecuteTime": {
     "end_time": "2023-07-29T02:38:27.288021Z",
     "start_time": "2023-07-29T02:38:27.256025Z"
    }
   },
   "outputs": [
    {
     "name": "stdout",
     "output_type": "stream",
     "text": [
      "########################误差 2.51294######################第0次迭代\n",
      "########################误差 0.07987######################第10次迭代\n",
      "########################误差 0.03888######################第20次迭代\n",
      "########################误差 0.02781######################第30次迭代\n",
      "########################误差 0.02215######################第40次迭代\n",
      "########################误差 0.01856######################第50次迭代\n",
      "########################误差 0.01603######################第60次迭代\n",
      "########################误差 0.01412######################第70次迭代\n",
      "########################误差 0.01262######################第80次迭代\n",
      "########################误差 0.01140######################第90次迭代\n"
     ]
    }
   ],
   "source": [
    "#实例\n",
    "X=list(np.arange(-1,1.1,0.1))\n",
    "D=[-0.96, -0.577, -0.0729, 0.017, -0.641, -0.66, -0.11, 0.1336, -0.201, -0.434, -0.5, -0.393, -0.1647, 0.0988, 0.3072, 0.396, 0.3449, 0.1816, -0.0312, -0.2183, -0.3201]\n",
    "A=X+D\n",
    "patt=np.array([A]*2)\n",
    "#创建神经⽹络，21个输⼊节点，21个隐藏层节点，1个输出层节点\n",
    "n = BPNN(21, 21, 21)\n",
    "#训练神经⽹络\n",
    "n.train(patt)"
   ]
  },
  {
   "cell_type": "code",
   "execution_count": 55,
   "id": "73b3265a",
   "metadata": {
    "ExecuteTime": {
     "end_time": "2023-07-29T02:38:29.637613Z",
     "start_time": "2023-07-29T02:38:29.617625Z"
    }
   },
   "outputs": [
    {
     "name": "stdout",
     "output_type": "stream",
     "text": [
      "[-1.00000000e+00 -9.00000000e-01 -8.00000000e-01 -7.00000000e-01\n",
      " -6.00000000e-01 -5.00000000e-01 -4.00000000e-01 -3.00000000e-01\n",
      " -2.00000000e-01 -1.00000000e-01 -2.22044605e-16  1.00000000e-01\n",
      "  2.00000000e-01  3.00000000e-01  4.00000000e-01  5.00000000e-01\n",
      "  6.00000000e-01  7.00000000e-01  8.00000000e-01  9.00000000e-01\n",
      "  1.00000000e+00] -> [[-0.8580754 ]\n",
      " [-0.57896604]\n",
      " [-0.07306002]\n",
      " [ 0.01688215]\n",
      " [-0.64446196]\n",
      " [-0.6639495 ]\n",
      " [-0.11018156]\n",
      " [ 0.13352807]\n",
      " [-0.20125208]\n",
      " [-0.43473807]\n",
      " [-0.50110351]\n",
      " [-0.39359087]\n",
      " [-0.16492026]\n",
      " [ 0.09871445]\n",
      " [ 0.30722117]\n",
      " [ 0.3961177 ]\n",
      " [ 0.34495503]\n",
      " [ 0.18154811]\n",
      " [-0.03133907]\n",
      " [-0.21856946]\n",
      " [-0.32051399]]\n",
      "[-1.00000000e+00 -9.00000000e-01 -8.00000000e-01 -7.00000000e-01\n",
      " -6.00000000e-01 -5.00000000e-01 -4.00000000e-01 -3.00000000e-01\n",
      " -2.00000000e-01 -1.00000000e-01 -2.22044605e-16  1.00000000e-01\n",
      "  2.00000000e-01  3.00000000e-01  4.00000000e-01  5.00000000e-01\n",
      "  6.00000000e-01  7.00000000e-01  8.00000000e-01  9.00000000e-01\n",
      "  1.00000000e+00] -> [[-0.8580754 ]\n",
      " [-0.57896604]\n",
      " [-0.07306002]\n",
      " [ 0.01688215]\n",
      " [-0.64446196]\n",
      " [-0.6639495 ]\n",
      " [-0.11018156]\n",
      " [ 0.13352807]\n",
      " [-0.20125208]\n",
      " [-0.43473807]\n",
      " [-0.50110351]\n",
      " [-0.39359087]\n",
      " [-0.16492026]\n",
      " [ 0.09871445]\n",
      " [ 0.30722117]\n",
      " [ 0.3961177 ]\n",
      " [ 0.34495503]\n",
      " [ 0.18154811]\n",
      " [-0.03133907]\n",
      " [-0.21856946]\n",
      " [-0.32051399]]\n"
     ]
    }
   ],
   "source": [
    "#测试神经⽹络\n",
    "d=n.test(patt)"
   ]
  },
  {
   "cell_type": "code",
   "execution_count": 56,
   "id": "345e7966",
   "metadata": {
    "ExecuteTime": {
     "end_time": "2023-07-29T02:38:33.444398Z",
     "start_time": "2023-07-29T02:38:33.423380Z"
    }
   },
   "outputs": [
    {
     "name": "stdout",
     "output_type": "stream",
     "text": [
      "输⼊层权重\n",
      "[[ 0.37463321  0.15131825  0.15131825  0.15131825  0.15131825  0.15131825\n",
      "   0.15131825  0.15131825  0.15131825  0.15131825  0.15131825  0.15131825\n",
      "   0.15131825  0.15131825  0.15131825  0.15131825  0.15131825  0.15131825\n",
      "   0.15131825  0.15131825  0.15131825  0.15131825]\n",
      " [ 0.37463321  0.15131825  0.15131825  0.15131825  0.15131825  0.15131825\n",
      "   0.15131825  0.15131825  0.15131825  0.15131825  0.15131825  0.15131825\n",
      "   0.15131825  0.15131825  0.15131825  0.15131825  0.15131825  0.15131825\n",
      "   0.15131825  0.15131825  0.15131825  0.15131825]\n",
      " [ 0.34716989  0.14618642  0.14618642  0.14618642  0.14618642  0.14618642\n",
      "   0.14618642  0.14618642  0.14618642  0.14618642  0.14618642  0.14618642\n",
      "   0.14618642  0.14618642  0.14618642  0.14618642  0.14618642  0.14618642\n",
      "   0.14618642  0.14618642  0.14618642  0.14618642]\n",
      " [ 0.31970657  0.1410546   0.1410546   0.1410546   0.1410546   0.1410546\n",
      "   0.1410546   0.1410546   0.1410546   0.1410546   0.1410546   0.1410546\n",
      "   0.1410546   0.1410546   0.1410546   0.1410546   0.1410546   0.1410546\n",
      "   0.1410546   0.1410546   0.1410546   0.1410546 ]\n",
      " [ 0.29224325  0.13592277  0.13592277  0.13592277  0.13592277  0.13592277\n",
      "   0.13592277  0.13592277  0.13592277  0.13592277  0.13592277  0.13592277\n",
      "   0.13592277  0.13592277  0.13592277  0.13592277  0.13592277  0.13592277\n",
      "   0.13592277  0.13592277  0.13592277  0.13592277]\n",
      " [ 0.26477992  0.13079095  0.13079095  0.13079095  0.13079095  0.13079095\n",
      "   0.13079095  0.13079095  0.13079095  0.13079095  0.13079095  0.13079095\n",
      "   0.13079095  0.13079095  0.13079095  0.13079095  0.13079095  0.13079095\n",
      "   0.13079095  0.13079095  0.13079095  0.13079095]\n",
      " [ 0.2373166   0.12565912  0.12565912  0.12565912  0.12565912  0.12565912\n",
      "   0.12565912  0.12565912  0.12565912  0.12565912  0.12565912  0.12565912\n",
      "   0.12565912  0.12565912  0.12565912  0.12565912  0.12565912  0.12565912\n",
      "   0.12565912  0.12565912  0.12565912  0.12565912]\n",
      " [ 0.20985328  0.1205273   0.1205273   0.1205273   0.1205273   0.1205273\n",
      "   0.1205273   0.1205273   0.1205273   0.1205273   0.1205273   0.1205273\n",
      "   0.1205273   0.1205273   0.1205273   0.1205273   0.1205273   0.1205273\n",
      "   0.1205273   0.1205273   0.1205273   0.1205273 ]\n",
      " [ 0.18238996  0.11539547  0.11539547  0.11539547  0.11539547  0.11539547\n",
      "   0.11539547  0.11539547  0.11539547  0.11539547  0.11539547  0.11539547\n",
      "   0.11539547  0.11539547  0.11539547  0.11539547  0.11539547  0.11539547\n",
      "   0.11539547  0.11539547  0.11539547  0.11539547]\n",
      " [ 0.15492664  0.11026365  0.11026365  0.11026365  0.11026365  0.11026365\n",
      "   0.11026365  0.11026365  0.11026365  0.11026365  0.11026365  0.11026365\n",
      "   0.11026365  0.11026365  0.11026365  0.11026365  0.11026365  0.11026365\n",
      "   0.11026365  0.11026365  0.11026365  0.11026365]\n",
      " [ 0.12746332  0.10513182  0.10513182  0.10513182  0.10513182  0.10513182\n",
      "   0.10513182  0.10513182  0.10513182  0.10513182  0.10513182  0.10513182\n",
      "   0.10513182  0.10513182  0.10513182  0.10513182  0.10513182  0.10513182\n",
      "   0.10513182  0.10513182  0.10513182  0.10513182]\n",
      " [ 0.1         0.1         0.1         0.1         0.1         0.1\n",
      "   0.1         0.1         0.1         0.1         0.1         0.1\n",
      "   0.1         0.1         0.1         0.1         0.1         0.1\n",
      "   0.1         0.1         0.1         0.1       ]\n",
      " [ 0.07253668  0.09486818  0.09486818  0.09486818  0.09486818  0.09486818\n",
      "   0.09486818  0.09486818  0.09486818  0.09486818  0.09486818  0.09486818\n",
      "   0.09486818  0.09486818  0.09486818  0.09486818  0.09486818  0.09486818\n",
      "   0.09486818  0.09486818  0.09486818  0.09486818]\n",
      " [ 0.04507336  0.08973635  0.08973635  0.08973635  0.08973635  0.08973635\n",
      "   0.08973635  0.08973635  0.08973635  0.08973635  0.08973635  0.08973635\n",
      "   0.08973635  0.08973635  0.08973635  0.08973635  0.08973635  0.08973635\n",
      "   0.08973635  0.08973635  0.08973635  0.08973635]\n",
      " [ 0.01761004  0.08460453  0.08460453  0.08460453  0.08460453  0.08460453\n",
      "   0.08460453  0.08460453  0.08460453  0.08460453  0.08460453  0.08460453\n",
      "   0.08460453  0.08460453  0.08460453  0.08460453  0.08460453  0.08460453\n",
      "   0.08460453  0.08460453  0.08460453  0.08460453]\n",
      " [-0.00985328  0.0794727   0.0794727   0.0794727   0.0794727   0.0794727\n",
      "   0.0794727   0.0794727   0.0794727   0.0794727   0.0794727   0.0794727\n",
      "   0.0794727   0.0794727   0.0794727   0.0794727   0.0794727   0.0794727\n",
      "   0.0794727   0.0794727   0.0794727   0.0794727 ]\n",
      " [-0.0373166   0.07434088  0.07434088  0.07434088  0.07434088  0.07434088\n",
      "   0.07434088  0.07434088  0.07434088  0.07434088  0.07434088  0.07434088\n",
      "   0.07434088  0.07434088  0.07434088  0.07434088  0.07434088  0.07434088\n",
      "   0.07434088  0.07434088  0.07434088  0.07434088]\n",
      " [-0.06477992  0.06920905  0.06920905  0.06920905  0.06920905  0.06920905\n",
      "   0.06920905  0.06920905  0.06920905  0.06920905  0.06920905  0.06920905\n",
      "   0.06920905  0.06920905  0.06920905  0.06920905  0.06920905  0.06920905\n",
      "   0.06920905  0.06920905  0.06920905  0.06920905]\n",
      " [-0.09224325  0.06407723  0.06407723  0.06407723  0.06407723  0.06407723\n",
      "   0.06407723  0.06407723  0.06407723  0.06407723  0.06407723  0.06407723\n",
      "   0.06407723  0.06407723  0.06407723  0.06407723  0.06407723  0.06407723\n",
      "   0.06407723  0.06407723  0.06407723  0.06407723]\n",
      " [-0.11970657  0.0589454   0.0589454   0.0589454   0.0589454   0.0589454\n",
      "   0.0589454   0.0589454   0.0589454   0.0589454   0.0589454   0.0589454\n",
      "   0.0589454   0.0589454   0.0589454   0.0589454   0.0589454   0.0589454\n",
      "   0.0589454   0.0589454   0.0589454   0.0589454 ]\n",
      " [-0.14716989  0.05381358  0.05381358  0.05381358  0.05381358  0.05381358\n",
      "   0.05381358  0.05381358  0.05381358  0.05381358  0.05381358  0.05381358\n",
      "   0.05381358  0.05381358  0.05381358  0.05381358  0.05381358  0.05381358\n",
      "   0.05381358  0.05381358  0.05381358  0.05381358]\n",
      " [-0.17463321  0.04868175  0.04868175  0.04868175  0.04868175  0.04868175\n",
      "   0.04868175  0.04868175  0.04868175  0.04868175  0.04868175  0.04868175\n",
      "   0.04868175  0.04868175  0.04868175  0.04868175  0.04868175  0.04868175\n",
      "   0.04868175  0.04868175  0.04868175  0.04868175]]\n",
      "输出层权重\n",
      "[[ 1.10209467  0.49352729 -0.15676529 -0.26169323  0.59844183  0.63177811\n",
      "  -0.11323718 -0.39812313 -0.00524029  0.2881079   0.37921793  0.23381663\n",
      "  -0.04858022 -0.35723855 -0.60720428 -0.71991072 -0.65440522 -0.45492574\n",
      "  -0.20549212  0.0155656   0.14059021]\n",
      " [ 0.26251746  0.14792729  0.05414031  0.04070633  0.16664576  0.17286358\n",
      "   0.05973969  0.02312134  0.07381581  0.11489722  0.12900598  0.10684743\n",
      "   0.06812691  0.02842596 -0.0049549  -0.02110286 -0.01160986  0.01567339\n",
      "   0.04789746  0.07657089  0.09355676]\n",
      " [ 0.26251746  0.14792729  0.05414031  0.04070633  0.16664576  0.17286358\n",
      "   0.05973969  0.02312134  0.07381581  0.11489722  0.12900598  0.10684743\n",
      "   0.06812691  0.02842596 -0.0049549  -0.02110286 -0.01160986  0.01567339\n",
      "   0.04789746  0.07657089  0.09355676]\n",
      " [ 0.26251746  0.14792729  0.05414031  0.04070633  0.16664576  0.17286358\n",
      "   0.05973969  0.02312134  0.07381581  0.11489722  0.12900598  0.10684743\n",
      "   0.06812691  0.02842596 -0.0049549  -0.02110286 -0.01160986  0.01567339\n",
      "   0.04789746  0.07657089  0.09355676]\n",
      " [ 0.26251746  0.14792729  0.05414031  0.04070633  0.16664576  0.17286358\n",
      "   0.05973969  0.02312134  0.07381581  0.11489722  0.12900598  0.10684743\n",
      "   0.06812691  0.02842596 -0.0049549  -0.02110286 -0.01160986  0.01567339\n",
      "   0.04789746  0.07657089  0.09355676]\n",
      " [ 0.26251746  0.14792729  0.05414031  0.04070633  0.16664576  0.17286358\n",
      "   0.05973969  0.02312134  0.07381581  0.11489722  0.12900598  0.10684743\n",
      "   0.06812691  0.02842596 -0.0049549  -0.02110286 -0.01160986  0.01567339\n",
      "   0.04789746  0.07657089  0.09355676]\n",
      " [ 0.26251746  0.14792729  0.05414031  0.04070633  0.16664576  0.17286358\n",
      "   0.05973969  0.02312134  0.07381581  0.11489722  0.12900598  0.10684743\n",
      "   0.06812691  0.02842596 -0.0049549  -0.02110286 -0.01160986  0.01567339\n",
      "   0.04789746  0.07657089  0.09355676]\n",
      " [ 0.26251746  0.14792729  0.05414031  0.04070633  0.16664576  0.17286358\n",
      "   0.05973969  0.02312134  0.07381581  0.11489722  0.12900598  0.10684743\n",
      "   0.06812691  0.02842596 -0.0049549  -0.02110286 -0.01160986  0.01567339\n",
      "   0.04789746  0.07657089  0.09355676]\n",
      " [ 0.26251746  0.14792729  0.05414031  0.04070633  0.16664576  0.17286358\n",
      "   0.05973969  0.02312134  0.07381581  0.11489722  0.12900598  0.10684743\n",
      "   0.06812691  0.02842596 -0.0049549  -0.02110286 -0.01160986  0.01567339\n",
      "   0.04789746  0.07657089  0.09355676]\n",
      " [ 0.26251746  0.14792729  0.05414031  0.04070633  0.16664576  0.17286358\n",
      "   0.05973969  0.02312134  0.07381581  0.11489722  0.12900598  0.10684743\n",
      "   0.06812691  0.02842596 -0.0049549  -0.02110286 -0.01160986  0.01567339\n",
      "   0.04789746  0.07657089  0.09355676]\n",
      " [ 0.26251746  0.14792729  0.05414031  0.04070633  0.16664576  0.17286358\n",
      "   0.05973969  0.02312134  0.07381581  0.11489722  0.12900598  0.10684743\n",
      "   0.06812691  0.02842596 -0.0049549  -0.02110286 -0.01160986  0.01567339\n",
      "   0.04789746  0.07657089  0.09355676]\n",
      " [ 0.26251746  0.14792729  0.05414031  0.04070633  0.16664576  0.17286358\n",
      "   0.05973969  0.02312134  0.07381581  0.11489722  0.12900598  0.10684743\n",
      "   0.06812691  0.02842596 -0.0049549  -0.02110286 -0.01160986  0.01567339\n",
      "   0.04789746  0.07657089  0.09355676]\n",
      " [ 0.26251746  0.14792729  0.05414031  0.04070633  0.16664576  0.17286358\n",
      "   0.05973969  0.02312134  0.07381581  0.11489722  0.12900598  0.10684743\n",
      "   0.06812691  0.02842596 -0.0049549  -0.02110286 -0.01160986  0.01567339\n",
      "   0.04789746  0.07657089  0.09355676]\n",
      " [ 0.26251746  0.14792729  0.05414031  0.04070633  0.16664576  0.17286358\n",
      "   0.05973969  0.02312134  0.07381581  0.11489722  0.12900598  0.10684743\n",
      "   0.06812691  0.02842596 -0.0049549  -0.02110286 -0.01160986  0.01567339\n",
      "   0.04789746  0.07657089  0.09355676]\n",
      " [ 0.26251746  0.14792729  0.05414031  0.04070633  0.16664576  0.17286358\n",
      "   0.05973969  0.02312134  0.07381581  0.11489722  0.12900598  0.10684743\n",
      "   0.06812691  0.02842596 -0.0049549  -0.02110286 -0.01160986  0.01567339\n",
      "   0.04789746  0.07657089  0.09355676]\n",
      " [ 0.26251746  0.14792729  0.05414031  0.04070633  0.16664576  0.17286358\n",
      "   0.05973969  0.02312134"
     ]
    },
    {
     "data": {
      "text/html": [
       "<b>limit_output extension: Maximum message size of 10000 exceeded with 11729 characters</b>"
      ]
     },
     "metadata": {},
     "output_type": "display_data"
    }
   ],
   "source": [
    "#查阅权重值\n",
    "n.weights()"
   ]
  },
  {
   "cell_type": "code",
   "execution_count": 57,
   "id": "e9783dad",
   "metadata": {
    "ExecuteTime": {
     "end_time": "2023-07-29T02:38:35.397866Z",
     "start_time": "2023-07-29T02:38:35.295845Z"
    }
   },
   "outputs": [
    {
     "data": {
      "image/png": "[encoded data removed]",
      "text/plain": [
       "<Figure size 432x288 with 1 Axes>"
      ]
     },
     "metadata": {
      "needs_background": "light"
     },
     "output_type": "display_data"
    }
   ],
   "source": [
    "plt.plot(X,D,color='black',label=\"Train\")\n",
    "plt.plot(X,d,color='red',label=\"Test\")\n",
    "plt.show()"
   ]
  }
 ],
 "metadata": {
  "hide_input": false,
  "kernelspec": {
   "display_name": "Python 3 (ipykernel)",
   "language": "python",
   "name": "python3"
  },
  "language_info": {
   "codemirror_mode": {
    "name": "ipython",
    "version": 3
   },
   "file_extension": ".py",
   "mimetype": "text/x-python",
   "name": "python",
   "nbconvert_exporter": "python",
   "pygments_lexer": "ipython3",
   "version": "3.8.13"
  },
  "toc": {
   "base_numbering": 1,
   "nav_menu": {},
   "number_sections": true,
   "sideBar": true,
   "skip_h1_title": false,
   "title_cell": "Table of Contents",
   "title_sidebar": "Contents",
   "toc_cell": false,
   "toc_position": {},
   "toc_section_display": true,
   "toc_window_display": false
  }
 },
 "nbformat": 4,
 "nbformat_minor": 5
}
